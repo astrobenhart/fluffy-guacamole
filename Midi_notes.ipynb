{
 "cells": [
  {
   "cell_type": "heading",
   "metadata": {},
   "level": 1,
   "source": [
    "MIDI Notes"
   ]
  },
  {
   "cell_type": "markdown",
   "metadata": {
    "collapsed": true
   },
   "source": [
    "This is a Jupyter Notebook that explores the format of the MIDI files used in this project. To start we will read in a random midi file (you must have run Get_midi.py to have the MIDIs for this project present) and look at its structure."
   ]
  },
  {
   "cell_type": "markdown",
   "metadata": {},
   "source": [
    "Lets import some libraries we need"
   ]
  },
  {
   "cell_type": "code",
   "execution_count": null,
   "metadata": {},
   "outputs": [],
   "source": [
    "import py_midicsv\n",
    "from mido import MidiFile as mid\n",
    "from mido import ports\n",
    "import numpy\n",
    "import matplotlib.pyplot as plt"
   ]
  },
  {
   "cell_type": "markdown",
   "metadata": {},
   "source": [
    "Now bring a midi file in, convert to csv, then put each row into a list"
   ]
  },
  {
   "cell_type": "code",
   "execution_count": 23,
   "metadata": {},
   "outputs": [],
   "source": [
    "midi_path = 'midi_solo/alb_esp1.mid'\n",
    "midi = py_midicsv.midi_to_csv(midi_path)\n",
    "\n",
    "midi_list = []\n",
    "for line in midi:\n",
    "\tstr_line = [x.strip() for x in line.split(',')]\n",
    "\tif (str(str_line[2]) != 'Copyright_t'\n",
    "\t    and str(str_line[2]) != 'Text_t'):\n",
    "\t\t# print(str_line)\n",
    "\t\tmidi_list.append(str_line)"
   ]
  },
  {
   "cell_type": "markdown",
   "metadata": {},
   "source": [
    "Lets take a look at the first 20 lines"
   ]
  },
  {
   "cell_type": "code",
   "execution_count": 25,
   "metadata": {},
   "outputs": [
    {
     "name": "stdout",
     "output_type": "stream",
     "text": [
      "['0', '0', 'Header', '1', '8', '480']\n['1', '0', 'Start_track']\n['1', '0', 'Title_t', '\"Espana Op. 165\"']\n['1', '0', 'Title_t', '\"Prelude\"']\n['1', '0', 'SMPTE_offset', '96', '0', '3', '0', '0']\n['1', '0', 'Time_signature', '3', '2', '24', '8']\n['1', '0', 'Key_signature', '-1', '\"major\"']\n['1', '0', 'Tempo', '642192']\n['1', '480', 'Tempo', '617920']\n['1', '1440', 'Tempo', '563380']\n['1', '1920', 'Tempo', '533333']\n['1', '2160', 'Tempo', '538117']\n['1', '2200', 'Tempo', '524017']\n['1', '2400', 'Tempo', '533333']\n['1', '2640', 'Tempo', '547945']\n['1', '2880', 'Tempo', '504202']\n['1', '3120', 'Tempo', '487805']\n['1', '3360', 'Tempo', '470588']\n['1', '3600', 'Tempo', '508475']\n['1', '3840', 'Tempo', '504202']\n"
     ]
    }
   ],
   "source": [
    "nlines = 20\n",
    "for i in range(nlines):\n",
    "\tprint(midi_list[i])"
   ]
  },
  {
   "cell_type": "code",
   "execution_count": 29,
   "metadata": {},
   "outputs": [],
   "source": [
    "midifile = mid(midi_path)"
   ]
  },
  {
   "cell_type": "code",
   "execution_count": 36,
   "metadata": {},
   "outputs": [
    {
     "name": "stdout",
     "output_type": "stream",
     "text": [
      "Track 1: Piano right\n"
     ]
    }
   ],
   "source": [
    "for i, track in enumerate(midifile.tracks):\n",
    "\tif track.name == 'Piano right':\n",
    "\t\tprint('Track {}: {}'.format(i, track.name))\n",
    "\t\tfor msg in track:\n",
    "\t\t\tpass"
   ]
  },
  {
   "cell_type": "code",
   "execution_count": null,
   "metadata": {},
   "outputs": [
    {
     "name": "stdout",
     "output_type": "stream",
     "text": [
      "program_change channel=0 program=0 time=0\ncontrol_change channel=0 control=7 value=100 time=0\ncontrol_change channel=0 control=10 value=64 time=0\ncontrol_change channel=0 control=91 value=127 time=0\ncontrol_change channel=0 control=64 value=0 time=0\nprogram_change channel=0 program=0 time=0\ncontrol_change channel=0 control=7 value=100 time=0\ncontrol_change channel=0 control=10 value=64 time=0\n"
     ]
    },
    {
     "name": "stdout",
     "output_type": "stream",
     "text": [
      "note_on channel=0 note=81 velocity=60 time=0.321096\nnote_on channel=0 note=57 velocity=48 time=0\ncontrol_change channel=0 control=64 value=127 time=0.0374612\n"
     ]
    },
    {
     "name": "stdout",
     "output_type": "stream",
     "text": [
      "note_on channel=0 note=81 velocity=0 time=0\nnote_on channel=0 note=88 velocity=66 time=0\nnote_on channel=0 note=57 velocity=0 time=0\nnote_on channel=0 note=64 velocity=52 time=0\n"
     ]
    },
    {
     "name": "stdout",
     "output_type": "stream",
     "text": [
      "note_on channel=0 note=88 velocity=0 time=0.13333325\nnote_on channel=0 note=86 velocity=55 time=0\nnote_on channel=0 note=64 velocity=0 time=0\nnote_on channel=0 note=62 velocity=42 time=0\nnote_on channel=0 note=86 velocity=0 time=0.066666625\nnote_on channel=0 note=88 velocity=47 time=0\nnote_on channel=0 note=62 velocity=0 time=0\nnote_on channel=0 note=64 velocity=42 time=0\nnote_on channel=0 note=88 velocity=0 time=0\nnote_on channel=0 note=86 velocity=62 time=0\nnote_on channel=0 note=64 velocity=0 time=0\nnote_on channel=0 note=62 velocity=49 time=0\ncontrol_change channel=0 control=64 value=0 time=0.007847539583333334\n"
     ]
    },
    {
     "name": "stdout",
     "output_type": "stream",
     "text": [
      "note_on channel=0 note=86 velocity=0 time=0\nnote_on channel=0 note=84 velocity=57 time=0\nnote_on channel=0 note=62 velocity=0 time=0\nnote_on channel=0 note=60 velocity=45 time=0\ncontrol_change channel=0 control=64 value=127 time=0.08222217083333332\n"
     ]
    },
    {
     "name": "stdout",
     "output_type": "stream",
     "text": [
      "note_on channel=0 note=84 velocity=0 time=0\nnote_on channel=0 note=86 velocity=57 time=0\nnote_on channel=0 note=60 velocity=0 time=0\nnote_on channel=0 note=62 velocity=45 time=0\n"
     ]
    },
    {
     "name": "stdout",
     "output_type": "stream",
     "text": [
      "note_on channel=0 note=86 velocity=0 time=0\nnote_on channel=0 note=88 velocity=62 time=0\nnote_on channel=0 note=62 velocity=0 time=0\ncontrol_change channel=0 control=64 value=0 time=0\nnote_on channel=0 note=64 velocity=49 time=0\ncontrol_change channel=0 control=64 value=127 time=0.07457987916666665\n"
     ]
    },
    {
     "name": "stdout",
     "output_type": "stream",
     "text": [
      "note_on channel=0 note=88 velocity=0 time=0\nnote_on channel=0 note=89 velocity=64 time=0\nnote_on channel=0 note=64 velocity=0 time=0\nnote_on channel=0 note=65 velocity=51 time=0\n"
     ]
    },
    {
     "name": "stdout",
     "output_type": "stream",
     "text": [
      "note_on channel=0 note=89 velocity=0 time=0\nnote_on channel=0 note=91 velocity=67 time=0\nnote_on channel=0 note=65 velocity=0 time=0\nnote_on channel=0 note=67 velocity=53 time=0\ncontrol_change channel=0 control=64 value=0 time=0.015686266666666667\ncontrol_change channel=0 control=64 value=127 time=0.08823525\n"
     ]
    },
    {
     "name": "stdout",
     "output_type": "stream",
     "text": [
      "note_on channel=0 note=91 velocity=0 time=0\nnote_on channel=0 note=88 velocity=66 time=0\nnote_on channel=0 note=67 velocity=0 time=0\nnote_on channel=0 note=64 velocity=52 time=0\n"
     ]
    },
    {
     "name": "stdout",
     "output_type": "stream",
     "text": [
      "note_on channel=0 note=88 velocity=0 time=0\nnote_on channel=0 note=89 velocity=64 time=0\nnote_on channel=0 note=64 velocity=0 time=0\nnote_on channel=0 note=65 velocity=51 time=0\ncontrol_change channel=0 control=64 value=0 time=0.009453787499999998\n"
     ]
    },
    {
     "name": "stdout",
     "output_type": "stream",
     "text": [
      "note_on channel=0 note=89 velocity=0 time=0\nnote_on channel=0 note=88 velocity=61 time=0\nnote_on channel=0 note=65 velocity=0 time=0\nnote_on channel=0 note=64 velocity=48 time=0\ncontrol_change channel=0 control=64 value=127 time=0.049768558333333324\nnote_on channel=0 note=88 velocity=0 time=0.08912044166666665\nnote_on channel=0 note=86 velocity=59 time=0\nnote_on channel=0 note=64 velocity=0 time=0\nnote_on channel=0 note=62 velocity=49 time=0\n"
     ]
    },
    {
     "name": "stdout",
     "output_type": "stream",
     "text": [
      "note_on channel=0 note=86 velocity=0 time=0.06944449999999999\nnote_on channel=0 note=88 velocity=55 time=0\nnote_on channel=0 note=62 velocity=0 time=0\nnote_on channel=0 note=64 velocity=48 time=0\nnote_on channel=0 note=88 velocity=0 time=0\nnote_on channel=0 note=86 velocity=67 time=0\nnote_on channel=0 note=64 velocity=0 time=0\nnote_on channel=0 note=62 velocity=53 time=0\ncontrol_change channel=0 control=64 value=0 time=0.010869562499999999\n"
     ]
    },
    {
     "name": "stdout",
     "output_type": "stream",
     "text": [
      "control_change channel=0 control=64 value=127 time=0.2789854375\n"
     ]
    },
    {
     "name": "stdout",
     "output_type": "stream",
     "text": [
      "note_on channel=0 note=86 velocity=0 time=0\nnote_on channel=0 note=84 velocity=60 time=0\nnote_on channel=0 note=62 velocity=0 time=0\nnote_on channel=0 note=60 velocity=48 time=0\ncontrol_change channel=0 control=64 value=0 time=0.015075375\n"
     ]
    },
    {
     "name": "stdout",
     "output_type": "stream",
     "text": [
      "control_change channel=0 control=64 value=127 time=0.19723615625000002\n"
     ]
    },
    {
     "name": "stdout",
     "output_type": "stream",
     "text": [
      "note_on channel=0 note=84 velocity=0 time=0.39070346875\nnote_on channel=0 note=82 velocity=57 time=0\nnote_on channel=0 note=60 velocity=0 time=0\nnote_on channel=0 note=58 velocity=48 time=0\ncontrol_change channel=0 control=64 value=0 time=0.01884421875\n"
     ]
    },
    {
     "name": "stdout",
     "output_type": "stream",
     "text": [
      "control_change channel=0 control=64 value=127 time=0.28266328125\n"
     ]
    },
    {
     "name": "stdout",
     "output_type": "stream",
     "text": [
      "note_on channel=0 note=82 velocity=0 time=0\nnote_on channel=0 note=58 velocity=0 time=0\nnote_on channel=0 note=45 velocity=42 time=0\ncontrol_change channel=0 control=64 value=0 time=0.03767085\n"
     ]
    },
    {
     "name": "stdout",
     "output_type": "stream",
     "text": [
      "control_change channel=0 control=64 value=127 time=0.10778931041666664\nnote_on channel=0 note=57 velocity=50 time=0\nnote_on channel=0 note=45 velocity=0 time=0\nnote_on channel=0 note=52 velocity=39 time=0\n"
     ]
    },
    {
     "name": "stdout",
     "output_type": "stream",
     "text": [
      "note_on channel=0 note=57 velocity=0 time=0\nnote_on channel=0 note=61 velocity=51 time=0\nnote_on channel=0 note=52 velocity=0 time=0\nnote_on channel=0 note=57 velocity=39 time=0\n"
     ]
    },
    {
     "name": "stdout",
     "output_type": "stream",
     "text": [
      "note_on channel=0 note=61 velocity=0 time=0\nnote_on channel=0 note=64 velocity=54 time=0\nnote_on channel=0 note=57 velocity=0 time=0\nnote_on channel=0 note=61 velocity=40 time=0\n"
     ]
    },
    {
     "name": "stdout",
     "output_type": "stream",
     "text": [
      "note_on channel=0 note=64 velocity=0 time=0\nnote_on channel=0 note=69 velocity=57 time=0\nnote_on channel=0 note=61 velocity=0 time=0\nnote_on channel=0 note=64 velocity=43 time=0\n"
     ]
    },
    {
     "name": "stdout",
     "output_type": "stream",
     "text": [
      "note_on channel=0 note=69 velocity=0 time=0\nnote_on channel=0 note=73 velocity=58 time=0\nnote_on channel=0 note=64 velocity=0 time=0\nnote_on channel=0 note=69 velocity=44 time=0\n"
     ]
    },
    {
     "name": "stdout",
     "output_type": "stream",
     "text": [
      "note_on channel=0 note=73 velocity=0 time=0\nnote_on channel=0 note=76 velocity=61 time=0\nnote_on channel=0 note=69 velocity=0 time=0\nnote_on channel=0 note=73 velocity=48 time=0\ncontrol_change channel=0 control=64 value=0 time=0.015625\ncontrol_change channel=0 control=64 value=127 time=0.140625\n"
     ]
    },
    {
     "name": "stdout",
     "output_type": "stream",
     "text": [
      "note_on channel=0 note=76 velocity=0 time=0\nnote_on channel=0 note=69 velocity=50 time=0\nnote_on channel=0 note=73 velocity=0 time=0\nnote_on channel=0 note=61 velocity=39 time=0\n"
     ]
    },
    {
     "name": "stdout",
     "output_type": "stream",
     "text": [
      "note_on channel=0 note=69 velocity=0 time=0\nnote_on channel=0 note=73 velocity=51 time=0\nnote_on channel=0 note=61 velocity=0 time=0\nnote_on channel=0 note=64 velocity=39 time=0\n"
     ]
    },
    {
     "name": "stdout",
     "output_type": "stream",
     "text": [
      "note_on channel=0 note=73 velocity=0 time=0\nnote_on channel=0 note=76 velocity=54 time=0\nnote_on channel=0 note=64 velocity=0 time=0\nnote_on channel=0 note=69 velocity=40 time=0\n"
     ]
    },
    {
     "name": "stdout",
     "output_type": "stream",
     "text": [
      "note_on channel=0 note=76 velocity=0 time=0\nnote_on channel=0 note=81 velocity=57 time=0\nnote_on channel=0 note=69 velocity=0 time=0\nnote_on channel=0 note=73 velocity=43 time=0\n"
     ]
    },
    {
     "name": "stdout",
     "output_type": "stream",
     "text": [
      "note_on channel=0 note=81 velocity=0 time=0\nnote_on channel=0 note=85 velocity=58 time=0\nnote_on channel=0 note=73 velocity=0 time=0\nnote_on channel=0 note=76 velocity=44 time=0\n"
     ]
    },
    {
     "name": "stdout",
     "output_type": "stream",
     "text": [
      "note_on channel=0 note=85 velocity=0 time=0\nnote_on channel=0 note=88 velocity=64 time=0\nnote_on channel=0 note=76 velocity=0 time=0\nnote_on channel=0 note=81 velocity=49 time=0\ncontrol_change channel=0 control=64 value=0 time=0.007662833333333332\ncontrol_change channel=0 control=64 value=127 time=0.11302679166666665\n"
     ]
    },
    {
     "name": "stdout",
     "output_type": "stream",
     "text": [
      "note_on channel=0 note=88 velocity=0 time=0.03952566666666667\nnote_on channel=0 note=85 velocity=60 time=0\nnote_on channel=0 note=81 velocity=0 time=0\nnote_on channel=0 note=76 velocity=43 time=0\n"
     ]
    },
    {
     "name": "stdout",
     "output_type": "stream",
     "text": [
      "note_on channel=0 note=85 velocity=0 time=0.020080333333333332\nnote_on channel=0 note=81 velocity=58 time=0\nnote_on channel=0 note=76 velocity=0 time=0\nnote_on channel=0 note=73 velocity=43 time=0\n"
     ]
    },
    {
     "name": "stdout",
     "output_type": "stream",
     "text": [
      "note_on channel=0 note=81 velocity=0 time=0\nnote_on channel=0 note=76 velocity=57 time=0\nnote_on channel=0 note=73 velocity=0 time=0\nnote_on channel=0 note=69 velocity=42 time=0\n"
     ]
    },
    {
     "name": "stdout",
     "output_type": "stream",
     "text": [
      "note_on channel=0 note=76 velocity=0 time=0.04132233333333333\nnote_on channel=0 note=73 velocity=55 time=0\nnote_on channel=0 note=69 velocity=0 time=0\nnote_on channel=0 note=64 velocity=40 time=0\n"
     ]
    },
    {
     "name": "stdout",
     "output_type": "stream",
     "text": [
      "note_on channel=0 note=73 velocity=0 time=0.02100841666666666\nnote_on channel=0 note=69 velocity=53 time=0\nnote_on channel=0 note=64 velocity=0 time=0\nnote_on channel=0 note=61 velocity=40 time=0\n"
     ]
    },
    {
     "name": "stdout",
     "output_type": "stream",
     "text": [
      "note_on channel=0 note=69 velocity=0 time=0\nnote_on channel=0 note=76 velocity=51 time=0\nnote_on channel=0 note=61 velocity=0 time=0\nnote_on channel=0 note=69 velocity=36 time=0\ncontrol_change channel=0 control=64 value=0 time=0.016393433333333332\ncontrol_change channel=0 control=64 value=127 time=0.11270485416666666\n"
     ]
    },
    {
     "name": "stdout",
     "output_type": "stream",
     "text": [
      "note_on channel=0 note=76 velocity=0 time=0\nnote_on channel=0 note=73 velocity=48 time=0\nnote_on channel=0 note=69 velocity=0 time=0\nnote_on channel=0 note=64 velocity=35 time=0\n"
     ]
    },
    {
     "name": "stdout",
     "output_type": "stream",
     "text": [
      "note_on channel=0 note=73 velocity=0 time=0\nnote_on channel=0 note=69 velocity=46 time=0\nnote_on channel=0 note=64 velocity=0 time=0\nnote_on channel=0 note=61 velocity=34 time=0\n"
     ]
    },
    {
     "name": "stdout",
     "output_type": "stream",
     "text": [
      "note_on channel=0 note=69 velocity=0 time=0\nnote_on channel=0 note=64 velocity=44 time=0\nnote_on channel=0 note=61 velocity=0 time=0\nnote_on channel=0 note=57 velocity=32 time=0\n"
     ]
    },
    {
     "name": "stdout",
     "output_type": "stream",
     "text": [
      "note_on channel=0 note=57 velocity=0 time=0.044392549999999996\nnote_on channel=0 note=64 velocity=0 time=0\nnote_on channel=0 note=61 velocity=44 time=0\nnote_on channel=0 note=57 velocity=30 time=0\n"
     ]
    },
    {
     "name": "stdout",
     "output_type": "stream",
     "text": [
      "note_on channel=0 note=57 velocity=0 time=0.04447114791666667\nnote_on channel=0 note=61 velocity=0 time=0\nnote_on channel=0 note=57 velocity=42 time=0\nnote_on channel=0 note=52 velocity=30 time=0\n"
     ]
    },
    {
     "name": "stdout",
     "output_type": "stream",
     "text": [
      "note_on channel=0 note=57 velocity=0 time=0\nnote_on channel=0 note=52 velocity=0 time=0\nnote_on channel=0 note=45 velocity=39 time=0\ncontrol_change channel=0 control=64 value=0 time=0.0195190625\n"
     ]
    },
    {
     "name": "stdout",
     "output_type": "stream",
     "text": [
      "note_on channel=0 note=81 velocity=51 time=0\nnote_on channel=0 note=45 velocity=0 time=0\nnote_on channel=0 note=57 velocity=40 time=0\ncontrol_change channel=0 control=64 value=127 time=0.0374612\n"
     ]
    },
    {
     "name": "stdout",
     "output_type": "stream",
     "text": [
      "note_on channel=0 note=81 velocity=0 time=0\nnote_on channel=0 note=88 velocity=56 time=0\nnote_on channel=0 note=57 velocity=0 time=0\nnote_on channel=0 note=64 velocity=44 time=0\n"
     ]
    },
    {
     "name": "stdout",
     "output_type": "stream",
     "text": [
      "note_on channel=0 note=88 velocity=0 time=0.13333325\nnote_on channel=0 note=86 velocity=46 time=0\nnote_on channel=0 note=64 velocity=0 time=0\nnote_on channel=0 note=62 velocity=39 time=0\nnote_on channel=0 note=86 velocity=0 time=0.066666625\nnote_on channel=0 note=88 velocity=41 time=0\nnote_on channel=0 note=62 velocity=0 time=0\nnote_on channel=0 note=64 velocity=35 time=0\nnote_on channel=0 note=88 velocity=0 time=0\nnote_on channel=0 note=86 velocity=52 time=0\nnote_on channel=0 note=64 velocity=0 time=0\nnote_on channel=0 note=62 velocity=41 time=0\ncontrol_change channel=0 control=64 value=0 time=0.012008722916666666\n"
     ]
    }
   ],
   "source": [
    "pass"
   ]
  },
  {
   "cell_type": "code",
   "execution_count": 34,
   "metadata": {},
   "outputs": [
    {
     "name": "stdout",
     "output_type": "stream",
     "text": [
      "1\n"
     ]
    }
   ],
   "source": [
    "print(midifile.type)"
   ]
  },
  {
   "cell_type": "code",
   "execution_count": null,
   "metadata": {},
   "outputs": [],
   "source": []
  }
 ],
 "metadata": {
  "kernelspec": {
   "display_name": "Python 2",
   "language": "python",
   "name": "python2"
  },
  "language_info": {
   "codemirror_mode": {
    "name": "ipython",
    "version": 2
   },
   "file_extension": ".py",
   "mimetype": "text/x-python",
   "name": "python",
   "nbconvert_exporter": "python",
   "pygments_lexer": "ipython2",
   "version": "2.7.6"
  }
 },
 "nbformat": 4,
 "nbformat_minor": 0
}
